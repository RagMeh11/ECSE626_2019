{
  "nbformat": 4,
  "nbformat_minor": 0,
  "metadata": {
    "colab": {
      "name": "multi-task-learning-example-pytorch.ipynb",
      "version": "0.3.2",
      "provenance": [],
      "collapsed_sections": []
    },
    "kernelspec": {
      "name": "python3",
      "display_name": "Python 3"
    }
  },
  "cells": [
    {
      "metadata": {
        "id": "6BaMKLQvE8OO",
        "colab_type": "code",
        "colab": {}
      },
      "cell_type": "code",
      "source": [
        "import torch\n",
        "import torch.nn as nn\n",
        "import torch.optim as optim\n",
        "import numpy as np\n",
        "np.random.seed(0)\n",
        "torch.manual_seed(0)\n",
        "torch.cuda.manual_seed(0)"
      ],
      "execution_count": 0,
      "outputs": []
    },
    {
      "metadata": {
        "id": "tu9_J0xrIHhj",
        "colab_type": "code",
        "colab": {}
      },
      "cell_type": "code",
      "source": [
        "N = 1024\n",
        "nb_epoch = 501\n",
        "batch_size = 32\n",
        "nb_features = 64\n",
        "Q = 1\n",
        "nb_output = 2  # total number of output\n",
        "D1 = 1  # first output\n",
        "D2 = 1  # second output"
      ],
      "execution_count": 0,
      "outputs": []
    },
    {
      "metadata": {
        "id": "ObaYZBVpyO3Z",
        "colab_type": "text"
      },
      "cell_type": "markdown",
      "source": [
        "# Evaluate on synthetic data"
      ]
    },
    {
      "metadata": {
        "id": "aoKriQlrIM3A",
        "colab_type": "code",
        "colab": {}
      },
      "cell_type": "code",
      "source": [
        "def gen_data(N):\n",
        "    X = np.random.randn(N, Q)\n",
        "    # y1 = 2x + 8\n",
        "    w1 = 2.\n",
        "    b1 = 8.\n",
        "    sigma1 = 1e1  # ground truth\n",
        "    Y1 = X.dot(w1) + b1 + sigma1 * np.random.randn(N, D1)\n",
        "    # y2 = 3x+3\n",
        "    w2 = 3\n",
        "    b2 = 3.\n",
        "    sigma2 = 1e0  # ground truth\n",
        "    Y2 = X.dot(w2) + b2 + sigma2 * np.random.randn(N, D2)\n",
        "    return X, Y1, Y2"
      ],
      "execution_count": 0,
      "outputs": []
    },
    {
      "metadata": {
        "id": "Db4B3XIzIPi-",
        "colab_type": "code",
        "outputId": "20909074-2ec3-46d3-f3c7-25fef739dd1d",
        "colab": {
          "base_uri": "https://localhost:8080/",
          "height": 269
        }
      },
      "cell_type": "code",
      "source": [
        "import pylab\n",
        "%matplotlib inline\n",
        "\n",
        "X, Y1, Y2 = gen_data(N)\n",
        "#pylab.figure(figsize=(3, 1.5))\n",
        "pylab.scatter(X[:, 0], Y1[:, 0], label='corrupted Y1')\n",
        "pylab.scatter(X[:, 0], 2*X[:, 0]+8, label='True Y1')\n",
        "pylab.scatter(X[:, 0], Y2[:, 0], label='corrupted Y2')\n",
        "pylab.scatter(X[:, 0], 3*X[:, 0]+3, label='True Y1')\n",
        "pylab.legend()\n",
        "pylab.show()"
      ],
      "execution_count": 0,
      "outputs": [
        {
          "output_type": "display_data",
          "data": {
            "image/png": "[encoded data removed]",
            "text/plain": [
              "<Figure size 432x288 with 1 Axes>"
            ]
          },
          "metadata": {
            "tags": []
          }
        }
      ]
    },
    {
      "metadata": {
        "id": "_E7LhkkoyR72",
        "colab_type": "text"
      },
      "cell_type": "markdown",
      "source": [
        "# Example Model"
      ]
    },
    {
      "metadata": {
        "id": "oFKJ9_mfIUlQ",
        "colab_type": "code",
        "colab": {}
      },
      "cell_type": "code",
      "source": [
        "class Net(nn.Module):\n",
        "    def __init__(self, input_size, hidden_size, output1_size, output2_size):\n",
        "        super(Net, self).__init__()\n",
        "        self.fc1 = nn.Linear(input_size, hidden_size) \n",
        "        self.relu = nn.ReLU()\n",
        "        self.fc2 = nn.Linear(hidden_size, output1_size)\n",
        "        self.fc3 = nn.Linear(hidden_size, output2_size)\n",
        "    \n",
        "    def forward(self, x):\n",
        "        out = self.fc1(x)\n",
        "        out = self.relu(out)\n",
        "        out1 = self.fc2(out)\n",
        "        out2 = self.fc3(out)\n",
        "        return out1, out2"
      ],
      "execution_count": 0,
      "outputs": []
    },
    {
      "metadata": {
        "id": "r-UlDkdlK21o",
        "colab_type": "code",
        "colab": {}
      },
      "cell_type": "code",
      "source": [
        "model = Net(Q, nb_features, D1, D2)"
      ],
      "execution_count": 0,
      "outputs": []
    },
    {
      "metadata": {
        "id": "EyR5ree1yWDk",
        "colab_type": "text"
      },
      "cell_type": "markdown",
      "source": [
        "## Define task dependent log_variance"
      ]
    },
    {
      "metadata": {
        "id": "ih0Ocq-NFuX2",
        "colab_type": "code",
        "colab": {}
      },
      "cell_type": "code",
      "source": [
        "log_var_a = torch.zeros((1,), requires_grad=True)\n",
        "log_var_b = torch.zeros((1,), requires_grad=True)\n",
        "\n",
        "# log_var_a = torch.tensor([3.0,], requires_grad=True)\n",
        "# log_var_b = torch.tensor([3.0,], requires_grad=True)"
      ],
      "execution_count": 0,
      "outputs": []
    },
    {
      "metadata": {
        "id": "Q_aXEqn84eGR",
        "colab_type": "code",
        "outputId": "704d24b3-433e-4c9c-973b-056000d4dff0",
        "colab": {
          "base_uri": "https://localhost:8080/",
          "height": 35
        }
      },
      "cell_type": "code",
      "source": [
        "# Initialized standard deviations (ground truth is 10 and 1):\n",
        "std_1 = torch.exp(log_var_a)**0.5\n",
        "std_2 = torch.exp(log_var_b)**0.5\n",
        "print([std_1.item(), std_2.item()])"
      ],
      "execution_count": 0,
      "outputs": [
        {
          "output_type": "stream",
          "text": [
            "[1.0, 1.0]\n"
          ],
          "name": "stdout"
        }
      ]
    },
    {
      "metadata": {
        "id": "mcKDv3htMqXJ",
        "colab_type": "code",
        "colab": {}
      },
      "cell_type": "code",
      "source": [
        "# get all parameters (model parameters + task dependent log variances) for MTUW network\n",
        "params = ([p for p in model.parameters()] + [log_var_a] + [log_var_b])\n",
        "optimizer = optim.Adam(params)"
      ],
      "execution_count": 0,
      "outputs": []
    },
    {
      "metadata": {
        "id": "MGPCPAXryqT9",
        "colab_type": "text"
      },
      "cell_type": "markdown",
      "source": [
        "## Define loss criterion with multi-task-uncertainty-weightage"
      ]
    },
    {
      "metadata": {
        "id": "5rHlOTALGXug",
        "colab_type": "code",
        "colab": {}
      },
      "cell_type": "code",
      "source": [
        "def criterion(y_pred, y_true, log_vars):\n",
        "  loss = 0\n",
        "  for i in range(len(y_pred)):\n",
        "    precision = torch.exp(-log_vars[i])\n",
        "    diff = (y_pred[i]-y_true[i])**2.\n",
        "    loss += torch.mean(precision * diff + log_vars[i])\n",
        "  return loss"
      ],
      "execution_count": 0,
      "outputs": []
    },
    {
      "metadata": {
        "id": "9Mk7ma7my397",
        "colab_type": "text"
      },
      "cell_type": "markdown",
      "source": [
        "## Train the network with MTUW"
      ]
    },
    {
      "metadata": {
        "id": "_pQ3cDYGVtPv",
        "colab_type": "code",
        "colab": {}
      },
      "cell_type": "code",
      "source": [
        "# convert data into torch from numpy array\n",
        "X = X.astype('float32')\n",
        "Y1 = Y1.astype('float32')\n",
        "Y2 = Y2.astype('float32')"
      ],
      "execution_count": 0,
      "outputs": []
    },
    {
      "metadata": {
        "id": "mFm-Jtkm2cGk",
        "colab_type": "code",
        "colab": {}
      },
      "cell_type": "code",
      "source": [
        "def shuffle_data(X,Y1,Y2):\n",
        "    s = np.arange(X.shape[0])\n",
        "    np.random.shuffle(s)\n",
        "    return X[s], Y1[s], Y2[s]"
      ],
      "execution_count": 0,
      "outputs": []
    },
    {
      "metadata": {
        "id": "2RJ0U_ss0uT1",
        "colab_type": "code",
        "outputId": "cb564b61-7b2c-4df3-9495-b5286d87b162",
        "colab": {
          "base_uri": "https://localhost:8080/",
          "height": 215
        }
      },
      "cell_type": "code",
      "source": [
        "## Train Network\n",
        "loss_history = np.zeros(nb_epoch)\n",
        "std_1_history = np.zeros(nb_epoch)\n",
        "std_2_history = np.zeros(nb_epoch)\n",
        "\n",
        "for i in range(nb_epoch):\n",
        "\n",
        "    epoch_loss = 0\n",
        "    \n",
        "    X, Y1, Y2 = shuffle_data(X, Y1, Y2)\n",
        "    \n",
        "    for j in range(N//batch_size):\n",
        "        \n",
        "        optimizer.zero_grad()\n",
        "        \n",
        "        inp = torch.from_numpy(X[(j*batch_size):((j+1)*batch_size)])\n",
        "        target1 = torch.from_numpy(Y1[(j*batch_size):((j+1)*batch_size)])\n",
        "        target2 = torch.from_numpy(Y2[(j*batch_size):((j+1)*batch_size)])\n",
        "        \n",
        "        out = model(inp)\n",
        "        \n",
        "        loss = criterion(out, [target1, target2], [log_var_a, log_var_b])\n",
        "        \n",
        "        epoch_loss += loss.item()\n",
        "        \n",
        "        loss.backward()\n",
        "        \n",
        "        optimizer.step()\n",
        "   \n",
        "    loss_history[i] = epoch_loss * batch_size / N    \n",
        "    \n",
        "    std_1 = torch.exp(log_var_a)**0.5\n",
        "    std_2 = torch.exp(log_var_b)**0.5\n",
        "\n",
        "    std_1_history[i] = std_1.item()\n",
        "    std_2_history[i] = std_2.item()\n",
        "    \n",
        "    if i%50 == 0:\n",
        "        # Found standard deviations (ground truth is 10 and 1):\n",
        "        print('Epoch: {:04d}, Loss: {:.04f}, Task 1 std: {:.04f}, Task 2 std: {:.04f}'.format(i, loss_history[i], std_1_history[i], std_2_history[i]))"
      ],
      "execution_count": 0,
      "outputs": [
        {
          "output_type": "stream",
          "text": [
            "Epoch: 0000, Loss: 174.6699, Task 1 std: 1.0159, Task 2 std: 1.0156\n",
            "Epoch: 0050, Loss: 34.3319, Task 1 std: 1.7114, Task 2 std: 1.0337\n",
            "Epoch: 0100, Loss: 17.2113, Task 1 std: 2.5575, Task 2 std: 0.9828\n",
            "Epoch: 0150, Loss: 10.6953, Task 1 std: 3.6124, Task 2 std: 0.9579\n",
            "Epoch: 0200, Loss: 7.9625, Task 1 std: 4.9327, Task 2 std: 0.9548\n",
            "Epoch: 0250, Loss: 6.8730, Task 1 std: 6.4974, Task 2 std: 0.9550\n",
            "Epoch: 0300, Loss: 6.5142, Task 1 std: 8.0977, Task 2 std: 0.9537\n",
            "Epoch: 0350, Loss: 6.4505, Task 1 std: 9.2529, Task 2 std: 0.9536\n",
            "Epoch: 0400, Loss: 6.4467, Task 1 std: 9.6377, Task 2 std: 0.9541\n",
            "Epoch: 0450, Loss: 6.4480, Task 1 std: 9.6688, Task 2 std: 0.9527\n",
            "Epoch: 0500, Loss: 6.4407, Task 1 std: 9.6567, Task 2 std: 0.9529\n"
          ],
          "name": "stdout"
        }
      ]
    },
    {
      "metadata": {
        "id": "ZoiJCMsb1BMt",
        "colab_type": "code",
        "outputId": "3945df1d-71ac-4930-a7f3-5ab3d67517e4",
        "colab": {
          "base_uri": "https://localhost:8080/",
          "height": 287
        }
      },
      "cell_type": "code",
      "source": [
        "# plot loss history\n",
        "pylab.plot(loss_history)"
      ],
      "execution_count": 0,
      "outputs": [
        {
          "output_type": "execute_result",
          "data": {
            "text/plain": [
              "[<matplotlib.lines.Line2D at 0x7fb39c64d780>]"
            ]
          },
          "metadata": {
            "tags": []
          },
          "execution_count": 52
        },
        {
          "output_type": "display_data",
          "data": {
            "image/png": "[encoded data removed]",
            "text/plain": [
              "<Figure size 432x288 with 1 Axes>"
            ]
          },
          "metadata": {
            "tags": []
          }
        }
      ]
    },
    {
      "metadata": {
        "id": "Ch_r_R_WmLLm",
        "colab_type": "code",
        "outputId": "14f05348-0866-4c25-fff3-5917872b2a9a",
        "colab": {
          "base_uri": "https://localhost:8080/",
          "height": 287
        }
      },
      "cell_type": "code",
      "source": [
        "# plot std_1 history\n",
        "pylab.plot(std_1_history)"
      ],
      "execution_count": 0,
      "outputs": [
        {
          "output_type": "execute_result",
          "data": {
            "text/plain": [
              "[<matplotlib.lines.Line2D at 0x7fb39c5b6ef0>]"
            ]
          },
          "metadata": {
            "tags": []
          },
          "execution_count": 53
        },
        {
          "output_type": "display_data",
          "data": {
            "image/png": "[encoded data removed]",
            "text/plain": [
              "<Figure size 432x288 with 1 Axes>"
            ]
          },
          "metadata": {
            "tags": []
          }
        }
      ]
    },
    {
      "metadata": {
        "id": "iPtUXGtPmSVL",
        "colab_type": "code",
        "outputId": "5a49076c-731a-4c5f-feb8-6e52892b56d7",
        "colab": {
          "base_uri": "https://localhost:8080/",
          "height": 287
        }
      },
      "cell_type": "code",
      "source": [
        "# plot std_2 history\n",
        "pylab.plot(std_2_history)"
      ],
      "execution_count": 0,
      "outputs": [
        {
          "output_type": "execute_result",
          "data": {
            "text/plain": [
              "[<matplotlib.lines.Line2D at 0x7fb39c590748>]"
            ]
          },
          "metadata": {
            "tags": []
          },
          "execution_count": 54
        },
        {
          "output_type": "display_data",
          "data": {
            "image/png": "[encoded data removed]",
            "text/plain": [
              "<Figure size 432x288 with 1 Axes>"
            ]
          },
          "metadata": {
            "tags": []
          }
        }
      ]
    },
    {
      "metadata": {
        "id": "DC3M_pKckl36",
        "colab_type": "text"
      },
      "cell_type": "markdown",
      "source": [
        "## Prediction"
      ]
    },
    {
      "metadata": {
        "id": "5SrNAC7ZouXZ",
        "colab_type": "code",
        "colab": {}
      },
      "cell_type": "code",
      "source": [
        "with torch.no_grad():\n",
        "    [predict_1, predict_2] = model(torch.from_numpy(X))\n",
        "    predict_1 = predict_1.numpy()\n",
        "    predict_2 = predict_2.numpy()"
      ],
      "execution_count": 0,
      "outputs": []
    },
    {
      "metadata": {
        "id": "wkMamYBSo_tT",
        "colab_type": "code",
        "outputId": "f5e23885-16ad-4b7a-867f-3d431c1ef52b",
        "colab": {
          "base_uri": "https://localhost:8080/",
          "height": 269
        }
      },
      "cell_type": "code",
      "source": [
        "pylab.scatter(X[:, 0], predict_1[:, 0], label='Predicted Y1')\n",
        "pylab.scatter(X[:, 0], 2*X[:, 0]+8, label='True Y1')\n",
        "pylab.scatter(X[:, 0], predict_2[:, 0], label='Predicted Y2')\n",
        "pylab.scatter(X[:, 0], 3*X[:, 0]+3, label='True Y2')\n",
        "pylab.legend()\n",
        "pylab.show()"
      ],
      "execution_count": 0,
      "outputs": [
        {
          "output_type": "display_data",
          "data": {
            "image/png": "[encoded data removed]",
            "text/plain": [
              "<Figure size 432x288 with 1 Axes>"
            ]
          },
          "metadata": {
            "tags": []
          }
        }
      ]
    }
  ]
}